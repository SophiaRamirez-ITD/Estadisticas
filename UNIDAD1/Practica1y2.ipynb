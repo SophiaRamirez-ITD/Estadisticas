{
  "nbformat": 4,
  "nbformat_minor": 0,
  "metadata": {
    "colab": {
      "provenance": [],
      "authorship_tag": "ABX9TyPC9RNPgvaxO25DfGeTPW0m",
      "include_colab_link": true
    },
    "kernelspec": {
      "name": "python3",
      "display_name": "Python 3"
    },
    "language_info": {
      "name": "python"
    }
  },
  "cells": [
    {
      "cell_type": "markdown",
      "metadata": {
        "id": "view-in-github",
        "colab_type": "text"
      },
      "source": [
        "<a href=\"https://colab.research.google.com/github/SophiaRamirez-ITD/Estadisticas/blob/main/UNIDAD1/Practica1y2.ipynb\" target=\"_parent\"><img src=\"https://colab.research.google.com/assets/colab-badge.svg\" alt=\"Open In Colab\"/></a>"
      ]
    },
    {
      "cell_type": "code",
      "execution_count": null,
      "metadata": {
        "id": "rsRYOBh2FL67"
      },
      "outputs": [],
      "source": [
        "\n",
        "from statistics import *\n",
        "\n",
        "\n",
        "# Lista de calififcaciones del grupo a de probabilidad y estadistica\n",
        "\n"
      ]
    },
    {
      "cell_type": "code",
      "source": [
        "\n",
        "grupoa = [70, 70, 65, 90, 100, 95, 45, 80, 73, 20, 100, 96]\n",
        "print(grupoa)"
      ],
      "metadata": {
        "colab": {
          "base_uri": "https://localhost:8080/"
        },
        "id": "Y8-3nEnFMBO0",
        "outputId": "186a0fe9-994b-480f-cce5-3a8df41e4470"
      },
      "execution_count": null,
      "outputs": [
        {
          "output_type": "stream",
          "name": "stdout",
          "text": [
            "[70, 70, 65, 90, 100, 95, 45, 80, 73, 20, 100, 96]\n"
          ]
        }
      ]
    },
    {
      "cell_type": "code",
      "source": [
        "\n",
        "type(grupoa)\n",
        "# Sacar la media de la calificacioness con una formula\n",
        "\n",
        "promedio = sum(grupoa) / len(grupoa)\n",
        "print(grupoa)\n"
      ],
      "metadata": {
        "colab": {
          "base_uri": "https://localhost:8080/"
        },
        "id": "_S0nbZQ_GUub",
        "outputId": "0a6e94d2-1c26-45f5-df9f-b0e490544299"
      },
      "execution_count": null,
      "outputs": [
        {
          "output_type": "stream",
          "name": "stdout",
          "text": [
            "[70, 70, 65, 90, 100, 95, 45, 80, 73, 20, 100, 96]\n"
          ]
        }
      ]
    },
    {
      "cell_type": "code",
      "source": [
        "#Utilizar la función mean que esta en la librería statistics para sacar el prmedio\n",
        "promedio2 = mean(grupoa)\n",
        "print(promedio2)"
      ],
      "metadata": {
        "colab": {
          "base_uri": "https://localhost:8080/"
        },
        "id": "mDdFYpdLGvEG",
        "outputId": "b364a466-76c4-488c-d53f-d77b2fc548a4"
      },
      "execution_count": null,
      "outputs": [
        {
          "output_type": "stream",
          "name": "stdout",
          "text": [
            "75.33333333333333\n"
          ]
        }
      ]
    },
    {
      "cell_type": "code",
      "source": [
        "#Determinar el valor de la moda con la función mode\n",
        "\n",
        "moda = mode(grupoa)\n",
        "print(moda)"
      ],
      "metadata": {
        "colab": {
          "base_uri": "https://localhost:8080/"
        },
        "id": "jF-AMSGmGyr8",
        "outputId": "686fb290-281c-4fe0-d9c8-bbab10ed210f"
      },
      "execution_count": null,
      "outputs": [
        {
          "output_type": "stream",
          "name": "stdout",
          "text": [
            "70\n"
          ]
        }
      ]
    },
    {
      "cell_type": "code",
      "source": [
        "# En caso de que exista más de una moda, se puede emplear la función multimode para sacar las multiples modas que puedan existir\n",
        "\n",
        "moda2 = multimode(grupoa)\n",
        "print(moda2)"
      ],
      "metadata": {
        "colab": {
          "base_uri": "https://localhost:8080/"
        },
        "id": "Rcip6fFQG3pU",
        "outputId": "53ea835c-4a89-46c9-e794-32e934dffeb7"
      },
      "execution_count": null,
      "outputs": [
        {
          "output_type": "stream",
          "name": "stdout",
          "text": [
            "[70, 100]\n"
          ]
        }
      ]
    },
    {
      "cell_type": "markdown",
      "source": [],
      "metadata": {
        "id": "fKU9rLqBckUV"
      }
    },
    {
      "cell_type": "code",
      "source": [
        "\n",
        "import random\n",
        "import matplotlib.pyplot as plt\n",
        "\n",
        "tiempos100mts = [15.10,17.20,14.69,13.27,22.15,18.71,19.15,20.65,15.10,17.20]\n",
        "print(tiempos100mts)"
      ],
      "metadata": {
        "colab": {
          "base_uri": "https://localhost:8080/"
        },
        "id": "hr8Riq58ct7b",
        "outputId": "60d49eaa-dfa1-4ba4-cb9a-fc7194c2af5f"
      },
      "execution_count": null,
      "outputs": [
        {
          "output_type": "stream",
          "name": "stdout",
          "text": [
            "[15.1, 17.2, 14.69, 13.27, 22.15, 18.71, 19.15, 20.65, 15.1, 17.2]\n"
          ]
        }
      ]
    },
    {
      "cell_type": "code",
      "source": [
        "\n",
        "print(\"el tiempo promedio de los corredores es=> \", mean(tiempos100mts) )"
      ],
      "metadata": {
        "id": "dVLAWK3Wcx25"
      },
      "execution_count": null,
      "outputs": []
    },
    {
      "cell_type": "code",
      "source": [
        "mediana = median (tiempos100mts)\n",
        "print(\"la media de los tiempos de los corredores es=> \", mediana)"
      ],
      "metadata": {
        "colab": {
          "base_uri": "https://localhost:8080/"
        },
        "id": "ijIOTcyVc1UU",
        "outputId": "92e166a1-e3a3-4339-d784-115e13f19966"
      },
      "execution_count": null,
      "outputs": [
        {
          "output_type": "stream",
          "name": "stdout",
          "text": [
            "la media de los tiempos de los corredores es=>  17.2\n"
          ]
        }
      ]
    },
    {
      "cell_type": "code",
      "source": [
        "moda = mode(tiempos100mts)\n",
        "print(\"la moda de los tiempos es => \",moda)"
      ],
      "metadata": {
        "colab": {
          "base_uri": "https://localhost:8080/"
        },
        "id": "dGAuJ-ABc63J",
        "outputId": "141e24d6-256f-438a-f20a-d61bf72026b8"
      },
      "execution_count": null,
      "outputs": [
        {
          "output_type": "stream",
          "name": "stdout",
          "text": [
            "la moda de los tiempos es =>  15.1\n"
          ]
        }
      ]
    },
    {
      "cell_type": "code",
      "source": [
        "Multimodas = multimode(tiempos100mts)\n",
        "print(\"la moda de los tiempos es => \",Multimodas)"
      ],
      "metadata": {
        "colab": {
          "base_uri": "https://localhost:8080/"
        },
        "id": "RNuvSwiMc4lq",
        "outputId": "6f3e31ac-0dd8-4f57-979b-04ce9fe9dacf"
      },
      "execution_count": null,
      "outputs": [
        {
          "output_type": "stream",
          "name": "stdout",
          "text": [
            "la moda de los tiempos es =>  [15.1, 17.2]\n"
          ]
        }
      ]
    },
    {
      "cell_type": "markdown",
      "source": [
        "3"
      ],
      "metadata": {
        "id": "jmAG4L60d3Fi"
      }
    },
    {
      "cell_type": "code",
      "source": [
        "fabrica1 = []\n",
        "for i in range(100):\n",
        "  numero_aleatorio = round( random.uniform(50,100), 2)\n",
        "  fabrica1.append(numero_aleatorio)\n",
        "print(fabrica1)\n"
      ],
      "metadata": {
        "colab": {
          "base_uri": "https://localhost:8080/"
        },
        "id": "hE5uZNx1d4Bg",
        "outputId": "cf599ed2-43cc-4dd6-d55e-e87652574560"
      },
      "execution_count": null,
      "outputs": [
        {
          "output_type": "stream",
          "name": "stdout",
          "text": [
            "[54.84, 85.54, 61.53, 77.94, 81.12, 97.56, 69.98, 75.27, 97.4, 65.44, 79.78, 97.74, 73.94, 78.93, 83.74, 99.16, 78.94, 89.14, 97.16, 74.93, 66.81, 75.84, 66.59, 78.33, 95.14, 74.64, 72.91, 96.99, 68.75, 52.93, 79.98, 72.45, 61.57, 51.53, 54.17, 61.52, 68.88, 98.8, 75.47, 89.02, 72.7, 98.3, 61.57, 56.81, 74.92, 95.34, 98.46, 91.78, 69.28, 77.03, 71.04, 67.44, 50.96, 54.5, 78.85, 95.26, 67.96, 50.48, 66.4, 95.14, 83.83, 87.0, 95.33, 80.18, 67.43, 96.88, 87.94, 99.53, 95.21, 53.23, 60.65, 87.49, 97.06, 67.35, 81.11, 76.51, 69.26, 71.16, 84.1, 59.62, 67.59, 84.69, 56.09, 98.39, 70.21, 91.4, 58.72, 85.33, 89.52, 89.23, 81.97, 53.1, 71.14, 71.23, 54.26, 76.47, 67.38, 82.3, 99.47, 64.28]\n"
          ]
        }
      ]
    },
    {
      "cell_type": "code",
      "source": [
        "fabrica2 = []\n",
        "for i in range(100):\n",
        "  numero_aleatorio2 = round( random.uniform(50,100), 2)\n",
        "  fabrica2.append(numero_aleatorio2)\n",
        "print(fabrica2)"
      ],
      "metadata": {
        "colab": {
          "base_uri": "https://localhost:8080/"
        },
        "id": "PDgfFl5-c-xc",
        "outputId": "072a03c2-8659-45da-99a8-2a2142fcd141"
      },
      "execution_count": null,
      "outputs": [
        {
          "output_type": "stream",
          "name": "stdout",
          "text": [
            "[85.77, 72.84, 73.79, 59.89, 63.04, 55.88, 99.83, 98.22, 64.23, 51.13, 85.48, 57.35, 60.86, 75.9, 55.9, 77.99, 78.72, 55.3, 71.66, 75.88, 99.01, 59.58, 57.89, 70.61, 58.04, 92.16, 91.31, 69.53, 86.46, 57.57, 68.81, 70.28, 64.09, 73.23, 88.98, 53.4, 93.31, 85.93, 87.36, 75.72, 68.64, 98.84, 93.46, 79.88, 98.42, 93.68, 79.58, 94.47, 64.95, 76.97, 82.08, 95.78, 64.06, 62.74, 99.99, 98.32, 71.6, 94.77, 89.69, 54.29, 52.29, 92.34, 62.68, 79.27, 85.34, 92.52, 87.4, 71.48, 62.07, 81.95, 53.35, 83.36, 72.58, 66.0, 90.3, 68.28, 73.74, 96.12, 67.73, 98.87, 75.51, 72.69, 67.92, 66.55, 74.97, 93.66, 71.44, 75.45, 63.22, 75.54, 76.79, 80.42, 64.57, 65.59, 93.15, 63.03, 86.66, 91.62, 69.78, 86.44]\n"
          ]
        }
      ]
    },
    {
      "cell_type": "code",
      "source": [
        "plt.hist(fabrica1)\n",
        "plt.title(\"Produccion diaria de la Fabrica 1\")\n",
        "plt.text(0.5, 1.0, 'Produccion diaria de la Fabrica 1')"
      ],
      "metadata": {
        "colab": {
          "base_uri": "https://localhost:8080/",
          "height": 469
        },
        "id": "1h-HGHOZeAGX",
        "outputId": "9ed4f60f-9884-4c39-d032-766000d6f38a"
      },
      "execution_count": null,
      "outputs": [
        {
          "output_type": "execute_result",
          "data": {
            "text/plain": [
              "Text(0.5, 1.0, 'Produccion diaria de la Fabrica 1')"
            ]
          },
          "metadata": {},
          "execution_count": 27
        },
        {
          "output_type": "display_data",
          "data": {
            "text/plain": [
              "<Figure size 640x480 with 1 Axes>"
            ],
            "image/png": "[encoded data removed]"
          },
          "metadata": {}
        }
      ]
    },
    {
      "cell_type": "code",
      "source": [
        "from statistics import *"
      ],
      "metadata": {
        "id": "u79uMyDthfCN"
      },
      "execution_count": null,
      "outputs": []
    },
    {
      "cell_type": "markdown",
      "source": [
        "06 FEB"
      ],
      "metadata": {
        "id": "DJCrbXxweE87"
      }
    },
    {
      "cell_type": "code",
      "source": [
        "\n",
        "media1 = mean(fabrica1)\n",
        "mediana1= median(fabrica1)\n",
        "moda1= mode (fabrica1)\n",
        "print(\"Valores de la fabrica 1\")\n",
        "print(\"La media es igual => \", media1)\n",
        "print(\"La mediana es igual => \", mediana1)\n",
        "print(\"La moda es igual => \", moda1)\n"
      ],
      "metadata": {
        "colab": {
          "base_uri": "https://localhost:8080/"
        },
        "id": "kl_BbGAFeIeZ",
        "outputId": "cd599c0a-0312-41ec-deec-ede4ffde8af7"
      },
      "execution_count": null,
      "outputs": [
        {
          "output_type": "stream",
          "name": "stdout",
          "text": [
            "Valores de la fabrica 1\n",
            "La media es igual =>  76.9026\n",
            "La mediana es igual =>  76.155\n",
            "La moda es igual =>  95.14\n"
          ]
        }
      ]
    },
    {
      "cell_type": "code",
      "source": [
        "media2 = mean(fabrica2)\n",
        "mediana2= median(fabrica2)\n",
        "moda2= mode (fabrica2)\n",
        "print(\"Valores de la fabrica 2\")\n",
        "print(\"La media es igual => \", media2)\n",
        "print(\"La mediana es igual => \", mediana2)\n",
        "print(\"La moda es igual => \", moda2)\n"
      ],
      "metadata": {
        "colab": {
          "base_uri": "https://localhost:8080/"
        },
        "id": "LkwZtc7uehqd",
        "outputId": "c6c2fcc7-7978-4865-d3df-daffdf60a488"
      },
      "execution_count": null,
      "outputs": [
        {
          "output_type": "stream",
          "name": "stdout",
          "text": [
            "Valores de la fabrica 2\n",
            "La media es igual =>  76.3781\n",
            "La mediana es igual =>  75.48\n",
            "La moda es igual =>  85.77\n"
          ]
        }
      ]
    },
    {
      "cell_type": "code",
      "source": [
        "fig,(ax1,ax2) = plt.subplots(nrows=1, ncols=2, figsize=(10,5))\n",
        "ax1.hist(fabrica1)\n",
        "ax2.hist(fabrica2)\n",
        "plt.show()"
      ],
      "metadata": {
        "colab": {
          "base_uri": "https://localhost:8080/",
          "height": 445
        },
        "id": "bxvEmdppgegr",
        "outputId": "4135bb8d-36bb-4d5d-89b8-5a0fe53d5f93"
      },
      "execution_count": null,
      "outputs": [
        {
          "output_type": "display_data",
          "data": {
            "text/plain": [
              "<Figure size 1000x500 with 2 Axes>"
            ],
            "image/png": "[encoded data removed]"
          },
          "metadata": {}
        }
      ]
    },
    {
      "cell_type": "code",
      "source": [
        "plt.hist(fabrica1, bins=10, alpha=0.2,color='b',edgecolor=\"black\")\n",
        "plt.axvline(media1,color='b',linestyle='dashed',linewidth=2, label='media')\n",
        "plt.axvline(mediana1,color='r',linestyle='dashed',linewidth=2, label='mediana')\n",
        "plt.axvline(moda1,color='y',linestyle='dashed',linewidth=2, label='moda')\n",
        "plt.title(\"Produccion diaria de la Fabrica 1\")\n",
        "plt.show()"
      ],
      "metadata": {
        "colab": {
          "base_uri": "https://localhost:8080/",
          "height": 452
        },
        "id": "283N3iD5h80A",
        "outputId": "1d233ada-cc98-4ae6-c2b2-73868e00b777"
      },
      "execution_count": null,
      "outputs": [
        {
          "output_type": "display_data",
          "data": {
            "text/plain": [
              "<Figure size 640x480 with 1 Axes>"
            ],
            "image/png": "[encoded data removed]"
          },
          "metadata": {}
        }
      ]
    },
    {
      "cell_type": "code",
      "source": [
        "plt.hist(fabrica2, bins=10, alpha=0.2,color='b',edgecolor=\"black\")\n",
        "plt.axvline(media2,color='b',linestyle='dashed',linewidth=2, label='media')\n",
        "plt.axvline(mediana2,color='r',linestyle='dashed',linewidth=2, label='mediana')\n",
        "plt.axvline(moda1,color='y',linestyle='dashed',linewidth=2, label='moda')\n",
        "plt.title(\"Produccion diaria de la Fabrica 1\")\n",
        "plt.show()"
      ],
      "metadata": {
        "colab": {
          "base_uri": "https://localhost:8080/",
          "height": 452
        },
        "id": "HB7QbVCPj8Bj",
        "outputId": "98ac90da-dc97-48ad-f383-23b08fcbefa4"
      },
      "execution_count": null,
      "outputs": [
        {
          "output_type": "display_data",
          "data": {
            "text/plain": [
              "<Figure size 640x480 with 1 Axes>"
            ],
            "image/png": "[encoded data removed]"
          },
          "metadata": {}
        }
      ]
    }
  ]
}